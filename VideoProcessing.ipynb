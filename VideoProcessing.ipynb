{
 "cells": [
  {
   "cell_type": "code",
   "execution_count": null,
   "id": "f9271486-3782-44dd-abc3-a876d4c3d2f2",
   "metadata": {},
   "outputs": [],
   "source": [
    "import cv2\n",
    "import os\n",
    "import numpy as np\n",
    "import tensorflow as tf\n",
    "import tensorflow_hub as hub\n",
    "from PIL import Image\n",
    "\n",
    "video_path = r\"D:\\Research\\Git\\Image-Processing\\Video\\testVideo2.mp4\"\n",
    "output_folder = r'D:\\Extracted frames'\n",
    "\n",
    "if not os.path.exists(output_folder):\n",
    "    os.makedirs(output_folder)\n",
    "\n",
    "cap = cv2.VideoCapture(video_path)\n",
    "frame_count = 0\n",
    "\n",
    "model = hub.load(\"https://tfhub.dev/captain-pool/esrgan-tf2/1\")\n",
    "\n",
    "def enhance_image(image):\n",
    "    lr_image = tf.convert_to_tensor(image, dtype=tf.float32)\n",
    "    lr_image = tf.expand_dims(lr_image, 0)\n",
    "    sr_image = model(lr_image)\n",
    "    sr_image = tf.squeeze(sr_image)\n",
    "    sr_image = tf.clip_by_value(sr_image, 0, 255)\n",
    "    sr_image = tf.cast(sr_image, tf.uint8)\n",
    "    return sr_image.numpy()\n",
    "\n",
    "while True:\n",
    "    ret, frame = cap.read()\n",
    "    if not ret:\n",
    "        break\n",
    "\n",
    "    frame_rgb = cv2.cvtColor(frame, cv2.COLOR_BGR2RGB)\n",
    "\n",
    "    enhanced_frame_rgb = enhance_image(frame_rgb)\n",
    "\n",
    "    enhanced_frame_bgr = cv2.cvtColor(enhanced_frame_rgb, cv2.COLOR_RGB2BGR)\n",
    "\n",
    "    frame_filename = os.path.join(output_folder, f\"frame_{frame_count:04d}.png\")\n",
    "    cv2.imwrite(frame_filename, enhanced_frame_bgr)\n",
    "\n",
    "    frame_count += 1\n",
    "\n",
    "cap.release()\n",
    "print(f\"Extracted and enhanced {frame_count} frames.\")\n"
   ]
  }
 ],
 "metadata": {
  "kernelspec": {
   "display_name": "Python 3 (ipykernel)",
   "language": "python",
   "name": "python3"
  },
  "language_info": {
   "codemirror_mode": {
    "name": "ipython",
    "version": 3
   },
   "file_extension": ".py",
   "mimetype": "text/x-python",
   "name": "python",
   "nbconvert_exporter": "python",
   "pygments_lexer": "ipython3",
   "version": "3.9.19"
  }
 },
 "nbformat": 4,
 "nbformat_minor": 5
}
